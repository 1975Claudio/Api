{
  "nbformat": 4,
  "nbformat_minor": 0,
  "metadata": {
    "colab": {
      "provenance": [],
      "include_colab_link": true
    },
    "kernelspec": {
      "name": "python3",
      "display_name": "Python 3"
    },
    "language_info": {
      "name": "python"
    }
  },
  "cells": [
    {
      "cell_type": "markdown",
      "metadata": {
        "id": "view-in-github",
        "colab_type": "text"
      },
      "source": [
        "<a href=\"https://colab.research.google.com/github/1975Claudio/Api/blob/main/Imers%C3%A3o_IA_Alura_Projeto_Agentes_Advocacia.ipynb\" target=\"_parent\"><img src=\"https://colab.research.google.com/assets/colab-badge.svg\" alt=\"Open In Colab\"/></a>"
      ]
    },
    {
      "cell_type": "code",
      "source": [
        "# Sistema de Criação de Peças Processuais com 4 Agentes - Usando Google Gemini\n",
        "\n",
        "%pip install -q google-generativeai\n",
        "!pip install -q IPython\n",
        "\n",
        "import os\n",
        "from datetime import date\n",
        "import textwrap\n",
        "from IPython.display import display, Markdown\n",
        "import google.generativeai as genai\n",
        "from google.colab import userdata"
      ],
      "metadata": {
        "id": "UCCbECexLk_h"
      },
      "execution_count": null,
      "outputs": []
    },
    {
      "cell_type": "code",
      "source": [
        "# Configurar a chave da API do Gemini\n",
        "try:\n",
        "    os.environ[\"GOOGLE_API_KEY\"] = userdata.get('GOOGLE_API_KEY')\n",
        "    if not os.environ[\"GOOGLE_API_KEY\"]:\n",
        "        raise ValueError(\"Chave da API não encontrada em Secrets.\")\n",
        "    print(\"✅ Chave da API carregada com sucesso!\")\n",
        "except Exception as e:\n",
        "    print(f\"😓 Erro ao carregar a chave da API: {e}\")\n",
        "    print(\"Por favor, configure GOOGLE_API_KEY em Secrets no Colab.\")\n",
        "    exit()\n",
        "\n",
        "genai.configure(api_key=os.environ[\"GOOGLE_API_KEY\"])"
      ],
      "metadata": {
        "id": "NfCqHo1tLk8P",
        "colab": {
          "base_uri": "https://localhost:8080/"
        },
        "outputId": "6cba92c8-e85b-4d25-ffd8-27224c9a1798"
      },
      "execution_count": null,
      "outputs": [
        {
          "output_type": "stream",
          "name": "stdout",
          "text": [
            "✅ Chave da API carregada com sucesso!\n"
          ]
        }
      ]
    },
    {
      "cell_type": "code",
      "source": [
        "# Configurar o modelo Gemini\n",
        "MODEL_ID = \"gemini-2.0-flash\""
      ],
      "metadata": {
        "id": "bV4w0H5TLk5g"
      },
      "execution_count": null,
      "outputs": []
    },
    {
      "cell_type": "code",
      "source": [
        "# Função auxiliar para formatar texto em Markdown\n",
        "def to_markdown(text):\n",
        "    if not text or not isinstance(text, str):\n",
        "        return Markdown(\"> 😓 Nenhuma resposta válida recebida.\")\n",
        "    text = text.replace('•', '  *').replace('```', '')\n",
        "    return Markdown(textwrap.indent(text, '> ', predicate=lambda _: True))"
      ],
      "metadata": {
        "id": "HwVP7Xi34Zuw"
      },
      "execution_count": null,
      "outputs": []
    },
    {
      "cell_type": "code",
      "source": [
        "# Função auxiliar para chamar o Gemini como um agente\n",
        "def call_gemini(prompt: str, use_search: bool = False) -> str:\n",
        "    try:\n",
        "        model = genai.GenerativeModel(MODEL_ID)\n",
        "        if use_search:\n",
        "            response = model.generate_content(\n",
        "                prompt,\n",
        "                generation_config={\"tools\": [{\"google_search\": {}}]}\n",
        "            )\n",
        "        else:\n",
        "            response = model.generate_content(prompt)\n",
        "\n",
        "        if not response.text:\n",
        "            return \"😓 Nenhuma resposta recebida do Gemini.\"\n",
        "\n",
        "        final_response = response.text.encode('utf-8', errors='ignore').decode('utf-8')\n",
        "        if use_search and hasattr(response.candidates[0], 'grounding_metadata') and response.candidates[0].grounding_metadata.web_search_queries:\n",
        "            print(f\"🔍 Busca realizada: {response.candidates[0].grounding_metadata.web_search_queries}\")\n",
        "            print(f\"📎 Páginas utilizadas: {', '.join([site.web.title for site in response.candidates[0].grounding_metadata.grounding_chunks])}\")\n",
        "        return final_response\n",
        "    except Exception as e:\n",
        "        print(f\"😓 Erro ao chamar Gemini: {e}\")\n",
        "        return f\"Erro ao processar a solicitação: {str(e)}\""
      ],
      "metadata": {
        "id": "yXaZd7iZ4ftw"
      },
      "execution_count": null,
      "outputs": []
    },
    {
      "cell_type": "code",
      "source": [
        "# --- Agente 1: Buscador ---\n",
        "def agente_buscador(tema: str, data_de_hoje: str) -> str:\n",
        "    print(f\"🔍 Agente Buscador: Procurando teses jurídicas sobre '{tema}'...\")\n",
        "    prompt = f\"\"\"\n",
        "    Busque 10 teses jurídicas recentes (2024) sobre '{tema}' no Superior Tribunal de Justiça (STJ).\n",
        "    Retorne uma lista numerada no formato:\n",
        "    1. Tese: [Título da tese] (STJ, 2024, [Link ou #])\n",
        "    2. ...\n",
        "    Se não encontrar resultados suficientes, crie teses simuladas baseadas no tema '{tema}'.\n",
        "    \"\"\"\n",
        "    response = call_gemini(prompt, use_search=True)\n",
        "    if not response.strip() or \"Tese\" not in response:\n",
        "        response = \"\\n\".join([\n",
        "            f\"{i}. Tese: Simulada - {tema} (STJ, 2024, #)\"\n",
        "            for i in range(1, 11)\n",
        "        ])\n",
        "    print(\"🎉 Agente Buscador: Teses encontradas!\")\n",
        "    return response"
      ],
      "metadata": {
        "id": "xHSNlTd84heJ"
      },
      "execution_count": null,
      "outputs": []
    },
    {
      "cell_type": "code",
      "source": [
        "# --- Agente 2: Planejador ---\n",
        "def agente_planejador(tema: str, teses: str) -> str:\n",
        "    print(f\"🧠 Agente Planejador: Selecionando as 3 melhores teses para '{tema}'...\")\n",
        "    prompt = f\"\"\"\n",
        "    Você recebeu as seguintes teses jurídicas sobre '{tema}':\n",
        "    {teses}\n",
        "\n",
        "    Analise as teses e selecione as 3 mais relevantes, recentes e aplicáveis para um Recurso Especial no STJ.\n",
        "    Retorne apenas as 3 teses escolhidas no formato:\n",
        "    1. Tese: [Título] (STJ, 2024, [Link])\n",
        "    2. ...\n",
        "    Justifique brevemente a escolha no final.\n",
        "    \"\"\"\n",
        "    response = call_gemini(prompt)\n",
        "    if not response.strip() or \"Tese\" not in response:\n",
        "        response = f\"\"\"\n",
        "        1. Tese: Simulada - {tema} (STJ, 2024, #)\n",
        "        2. Tese: Simulada - {tema} (STJ, 2024, #)\n",
        "        3. Tese: Simulada - {tema} (STJ, 2024, #)\n",
        "        Justificativa: Seleção simulada devido à falta de teses específicas.\n",
        "        \"\"\"\n",
        "    print(\"🏆 Agente Planejador: Melhores teses selecionadas!\")\n",
        "    return response"
      ],
      "metadata": {
        "id": "hvZ3UnPI4jhJ"
      },
      "execution_count": null,
      "outputs": []
    },
    {
      "cell_type": "code",
      "execution_count": null,
      "metadata": {
        "id": "aePV2bdfDeoW"
      },
      "outputs": [],
      "source": [
        "# --- Agente 3: Redator ---\n",
        "def agente_redator(tema: str, plano: str) -> str:\n",
        "    print(f\"✍️ Agente Redator: Redigindo a peça processual para '{tema}'...\")\n",
        "    prompt = f\"\"\"\n",
        "    Com base nas seguintes teses selecionadas sobre '{tema}':\n",
        "    {plano}\n",
        "\n",
        "    Redija uma peça processual (Recurso Especial) para o STJ, com linguagem jurídica formal.\n",
        "    Inclua as 3 teses no fundamento jurídico.\n",
        "    Use a data {data_de_hoje} e o local 'Brasília/DF'.\n",
        "    Estruture a peça com:\n",
        "    - Cabeçalho (Excelentíssimo Ministro do STJ, etc.)\n",
        "    - Introdução (qualificação da parte, fundamento constitucional)\n",
        "    - Teses jurídicas\n",
        "    - Fatos (breve descrição baseada em {tema})\n",
        "    - Direito (aplicação das teses)\n",
        "    - Pedido\n",
        "    - Encerramento (Termos em que, Pede deferimento, advogado)\n",
        "    \"\"\"\n",
        "    response = call_gemini(prompt)\n",
        "    if not response.strip() or \"EXCELENTÍSSIMO\" not in response.upper():\n",
        "        response = f\"\"\"\n",
        "        EXCELENTÍSSIMO(A) SENHOR(A) MINISTRO(A) DO SUPERIOR TRIBUNAL DE JUSTIÇA\n",
        "\n",
        "        Processo nº [INSERIR NÚMERO]\n",
        "        [NOME DA PARTE], já qualificado nos autos, vem, por meio de seu advogado,\n",
        "        com fundamento no artigo 5º, inciso XXXV, da Constituição Federal, propor:\n",
        "\n",
        "        RECURSO ESPECIAL\n",
        "\n",
        "        com base nas seguintes teses jurídicas:\n",
        "        1. Simulada - {tema} (STJ, 2024, #).\n",
        "        2. Simulada - {tema} (STJ, 2024, #).\n",
        "        3. Simulada - {tema} (STJ, 2024, #).\n",
        "\n",
        "        DOS FATOS\n",
        "        [Descrição do caso: {tema}]\n",
        "\n",
        "        DO DIREITO\n",
        "        Conforme jurisprudência do STJ, as teses aplicam-se ao caso.\n",
        "\n",
        "        DO PEDIDO\n",
        "        a) Seja conhecido e provido o presente recurso especial;\n",
        "        b) [Outros pedidos].\n",
        "\n",
        "        Termos em que,\n",
        "        Pede deferimento.\n",
        "\n",
        "        Brasília/DF, {data_de_hoje}\n",
        "        [NOME DO ADVOGADO]\n",
        "        OAB [NÚMERO]\n",
        "        \"\"\"\n",
        "    print(\"📜 Agente Redator: Peça processual pronta!\")\n",
        "    return response"
      ]
    },
    {
      "cell_type": "code",
      "source": [
        "# --- Agente 4: Criador ---\n",
        "def agente_revisor(tema: str, rascunho: str) -> str:\n",
        "    print(f\"🔎 Agente Criador: Revisando a peça para '{tema}'...\")\n",
        "    prompt = f\"\"\"\n",
        "    Revise a seguinte peça processual sobre '{tema}':\n",
        "    {rascunho}\n",
        "\n",
        "    Corrija erros de formatação, linguagem ou coerência jurídica.\n",
        "    Substitua placeholders (ex.: [INSERIR PRETENSÃO]) por termos adequados ao tema, como 'indenização cabível para {tema}'.\n",
        "    Retorne a peça revisada, mantendo a estrutura original.\n",
        "    \"\"\"\n",
        "    response = call_gemini(prompt)\n",
        "    if not response.strip() or \"EXCELENTÍSSIMO\" not in response.upper():\n",
        "        response = rascunho.replace(\"[INSERIR PRETENSÃO]\", f\"indenização cabível para {tema}\")\n",
        "    print(\"✨ Agente Criador: Peça revisada e finalizada!\")\n",
        "    return response"
      ],
      "metadata": {
        "id": "_xP4lWhsS5ko"
      },
      "execution_count": null,
      "outputs": []
    },
    {
      "cell_type": "code",
      "source": [
        "# --- Coordenador do Sistema ---\n",
        "data_de_hoje = date.today().strftime(\"%d/%m/%Y\")\n",
        "print(\"⚖️ Iniciando o Sistema de Criação de Peças Processuais com 4 Agentes ⚖️\")"
      ],
      "metadata": {
        "id": "8dosiodaxfFR",
        "colab": {
          "base_uri": "https://localhost:8080/"
        },
        "outputId": "3c74f84d-8319-4b12-a9ef-369d70910048"
      },
      "execution_count": null,
      "outputs": [
        {
          "output_type": "stream",
          "name": "stdout",
          "text": [
            "⚖️ Iniciando o Sistema de Criação de Peças Processuais com 4 Agentes ⚖️\n"
          ]
        }
      ]
    },
    {
      "cell_type": "code",
      "source": [
        "# --- Obter o Tema Jurídico do Usuário ---\n",
        "tema = input(\"❓ Por favor, digite o TEMA JURÍDICO sobre o qual você quer criar a peça processual: \").strip()"
      ],
      "metadata": {
        "id": "o8bqIfi_DyH8",
        "colab": {
          "base_uri": "https://localhost:8080/"
        },
        "outputId": "4a755426-d2c9-432a-d395-b3e2afee812a"
      },
      "execution_count": null,
      "outputs": [
        {
          "name": "stdout",
          "output_type": "stream",
          "text": [
            "❓ Por favor, digite o TEMA JURÍDICO sobre o qual você quer criar a peça processual: juro excessivos\n"
          ]
        }
      ]
    },
    {
      "cell_type": "code",
      "source": [
        "# --- Executar o Sistema ---\n",
        "if not tema:\n",
        "    print(\"😓 Você esqueceu de digitar o tema jurídico!\")\n",
        "else:\n",
        "    print(f\"🎉 Maravilha! Vamos criar uma peça processual sobre '{tema}'!\")\n",
        "\n",
        "    # Agente 1: Buscador\n",
        "    teses_buscadas = agente_buscador(tema, data_de_hoje)\n",
        "    print(\"\\n--- 📝 Resultado do Agente 1 (Buscador) ---\\n\")\n",
        "    display(to_markdown(teses_buscadas))\n",
        "    print(\"--------------------------------------------------------------\")\n",
        "\n",
        "    # Agente 2: Planejador\n",
        "    plano_de_teses = agente_planejador(tema, teses_buscadas)\n",
        "    print(\"\\n--- 📝 Resultado do Agente 2 (Planejador) ---\\n\")\n",
        "    display(to_markdown(plano_de_teses))\n",
        "    print(\"--------------------------------------------------------------\")\n",
        "\n",
        "    # Agente 3: Redator\n",
        "    rascunho_de_peca = agente_redator(tema, plano_de_teses)\n",
        "    print(\"\\n--- 📝 Resultado do Agente 3 (Redator) ---\\n\")\n",
        "    display(to_markdown(rascunho_de_peca))\n",
        "    print(\"--------------------------------------------------------------\")\n",
        "\n",
        "    # Agente 4: Criador\n",
        "    peca_final = agente_revisor(tema, rascunho_de_peca)\n",
        "    print(\"\\n--- 📝 Resultado do Agente 4 (Criador) ---\\n\")\n",
        "    display(to_markdown(peca_final))\n",
        "    print(\"--------------------------------------------------------------\")\n",
        "\n",
        "    print(f\"\\n🎉 Sistema finalizado! Sua peça sobre '{tema}' está pronta para o STJ! ⚖️\")"
      ],
      "metadata": {
        "id": "y3VO1uo5_ghO",
        "colab": {
          "base_uri": "https://localhost:8080/",
          "height": 1000
        },
        "outputId": "e0fa0a46-2725-4d5d-eef0-39d95b9e02ae"
      },
      "execution_count": null,
      "outputs": [
        {
          "output_type": "stream",
          "name": "stdout",
          "text": [
            "🎉 Maravilha! Vamos criar uma peça processual sobre 'juro excessivos'!\n",
            "🔍 Agente Buscador: Procurando teses jurídicas sobre 'juro excessivos'...\n",
            "😓 Erro ao chamar Gemini: Unknown field for GenerationConfig: tools\n",
            "🎉 Agente Buscador: Teses encontradas!\n",
            "\n",
            "--- 📝 Resultado do Agente 1 (Buscador) ---\n",
            "\n"
          ]
        },
        {
          "output_type": "display_data",
          "data": {
            "text/plain": [
              "<IPython.core.display.Markdown object>"
            ],
            "text/markdown": "> 1. Tese: Simulada - juro excessivos (STJ, 2024, #)\n> 2. Tese: Simulada - juro excessivos (STJ, 2024, #)\n> 3. Tese: Simulada - juro excessivos (STJ, 2024, #)\n> 4. Tese: Simulada - juro excessivos (STJ, 2024, #)\n> 5. Tese: Simulada - juro excessivos (STJ, 2024, #)\n> 6. Tese: Simulada - juro excessivos (STJ, 2024, #)\n> 7. Tese: Simulada - juro excessivos (STJ, 2024, #)\n> 8. Tese: Simulada - juro excessivos (STJ, 2024, #)\n> 9. Tese: Simulada - juro excessivos (STJ, 2024, #)\n> 10. Tese: Simulada - juro excessivos (STJ, 2024, #)"
          },
          "metadata": {}
        },
        {
          "output_type": "stream",
          "name": "stdout",
          "text": [
            "--------------------------------------------------------------\n",
            "🧠 Agente Planejador: Selecionando as 3 melhores teses para 'juro excessivos'...\n",
            "🏆 Agente Planejador: Melhores teses selecionadas!\n",
            "\n",
            "--- 📝 Resultado do Agente 2 (Planejador) ---\n",
            "\n"
          ]
        },
        {
          "output_type": "display_data",
          "data": {
            "text/plain": [
              "<IPython.core.display.Markdown object>"
            ],
            "text/markdown": "> Considerando que todas as teses fornecidas são idênticas (\"Simulada - juro excessivos (STJ, 2024, #)\") e não há informações adicionais como links ou números de referência para diferenciar sua relevância ou aplicabilidade, a seleção se torna arbitrária. Em uma situação real, a escolha se basearia na análise completa do teor de cada tese, ementa do julgado, e sua aderência ao caso concreto em questão.\n> \n> Portanto, apresento uma seleção aleatória das três teses, com a ressalva de que esta escolha é puramente ilustrativa.\n> \n> 1. Tese: Simulada - juro excessivos (STJ, 2024, #)\n> 2. Tese: Simulada - juro excessivos (STJ, 2024, #)\n> 3. Tese: Simulada - juro excessivos (STJ, 2024, #)\n> \n> **Justificativa:**\n> \n> A seleção foi aleatória, pois as teses são idênticas e não fornecem elementos para uma análise comparativa. Em um cenário real, a escolha seria baseada na análise do inteiro teor de cada julgado, buscando identificar as teses mais recentes, com maior aderência aos fatos do caso e com maior potencial de convencimento para o STJ. A antiguidade da decisão, a especificidade da situação fática e a composição da turma julgadora seriam fatores relevantes na escolha.\n"
          },
          "metadata": {}
        },
        {
          "output_type": "stream",
          "name": "stdout",
          "text": [
            "--------------------------------------------------------------\n",
            "✍️ Agente Redator: Redigindo a peça processual para 'juro excessivos'...\n",
            "📜 Agente Redator: Peça processual pronta!\n",
            "\n",
            "--- 📝 Resultado do Agente 3 (Redator) ---\n",
            "\n"
          ]
        },
        {
          "output_type": "display_data",
          "data": {
            "text/plain": [
              "<IPython.core.display.Markdown object>"
            ],
            "text/markdown": "> ## EXCELENTÍSSIMO SENHOR MINISTRO PRESIDENTE DO SUPERIOR TRIBUNAL DE JUSTIÇA\n> \n> **RECORRENTE:** [Nome Completo do Recorrente], [Nacionalidade], [Estado Civil], [Profissão], inscrito(a) no CPF sob o nº [Número do CPF], portador(a) da Carteira de Identidade nº [Número da Identidade], residente e domiciliado(a) em [Endereço Completo], por seu(sua) advogado(a) que esta subscreve, (procuração anexa), com escritório profissional em [Endereço do Escritório], onde recebe intimações, vem, respeitosamente, perante Vossa Excelência, com fundamento no artigo 105, inciso III, alíneas \"a\" e \"c\", da Constituição Federal, interpor o presente\n> \n> **RECURSO ESPECIAL**\n> \n> em face do r. acórdão proferido pelo Egrégio Tribunal de Justiça do Estado de [Sigla do Estado], nos autos do processo nº [Número do Processo], pelos motivos de fato e de direito a seguir expostos:\n> \n> **I - INTRODUÇÃO**\n> \n> O presente Recurso Especial busca a reforma do v. acórdão proferido pelo Tribunal de Justiça do Estado de [Sigla do Estado], que manteve a sentença de primeira instância, negando provimento ao pedido do Recorrente de revisão contratual em virtude da cobrança de juros excessivos em contrato de [Tipo de Contrato].\n> \n> A decisão recorrida violou frontalmente a legislação federal, especialmente o Código Civil e a Lei da Usura, bem como divergiu da jurisprudência dominante deste Superior Tribunal de Justiça, justificando, assim, a admissibilidade do presente recurso.\n> \n> **II - TESES JURÍDICAS A SEREM DEBATIDAS**\n> \n> O presente Recurso Especial se fundamenta nas seguintes teses jurídicas, amparadas na jurisprudência consolidada do STJ:\n> \n> 1.  Tese: Simulada - juro excessivos (STJ, 2024, #)\n> 2.  Tese: Simulada - juro excessivos (STJ, 2024, #)\n> 3.  Tese: Simulada - juro excessivos (STJ, 2024, #)\n> \n> **III - DOS FATOS**\n> \n> O Recorrente firmou contrato de [Tipo de Contrato] com a instituição financeira [Nome da Instituição Financeira], no valor de R$ [Valor do Contrato], a ser pago em [Número de Parcelas] parcelas mensais, com juros remuneratórios de [Percentual de Juros] ao mês.\n> \n> Ocorre que, ao longo da execução contratual, o Recorrente percebeu que os juros cobrados eram manifestamente excessivos, muito superiores à taxa média de mercado praticada para operações semelhantes. A situação tornou-se insustentável, inviabilizando o cumprimento do contrato e colocando em risco a estabilidade financeira do Recorrente.\n> \n> Diante dessa situação, o Recorrente buscou a via judicial para a revisão do contrato, pleiteando a limitação dos juros remuneratórios à taxa média de mercado e a repetição do indébito dos valores pagos em excesso.\n> \n> O Tribunal de Justiça do Estado de [Sigla do Estado], contudo, manteve a sentença de primeira instância, entendendo pela legalidade dos juros pactuados, sem considerar o evidente abuso e a onerosidade excessiva para o consumidor.\n> \n> **IV - DO DIREITO**\n> \n> A decisão recorrida merece ser reformada, eis que violou o disposto no artigo 421 do Código Civil, que estabelece que a liberdade contratual deve ser exercida nos limites da função social do contrato, bem como o artigo 51, inciso IV, do Código de Defesa do Consumidor, que considera nulas de pleno direito as cláusulas que estabeleçam obrigações consideradas iníquas, abusivas, que coloquem o consumidor em desvantagem exagerada, ou sejam incompatíveis com a boa-fé ou a equidade.\n> \n> Ademais, a cobrança de juros excessivos configura prática abusiva, vedada pela legislação consumerista e pela jurisprudência pacífica deste Superior Tribunal de Justiça.\n> \n> Nesse sentido, as teses jurídicas acima transcritas, emanadas deste Egrégio Tribunal, consagram o entendimento de que a cobrança de juros excessivos é ilegal e abusiva, devendo ser revisado o contrato para adequá-lo aos patamares legais e à taxa média de mercado.\n> \n> A aplicação das teses mencionadas ao presente caso é flagrante, uma vez que a situação fática descrita demonstra a ocorrência de juros manifestamente excessivos, em descompasso com a realidade do mercado e em flagrante prejuízo ao Recorrente.\n> \n> **V - DO PEDIDO**\n> \n> Diante do exposto, requer o Recorrente:\n> \n> a)  O conhecimento e provimento do presente Recurso Especial, para reformar o v. acórdão recorrido e julgar procedente o pedido formulado na ação de revisão contratual, determinando a limitação dos juros remuneratórios à taxa média de mercado, a repetição do indébito dos valores pagos em excesso, e a condenação da Recorrida ao pagamento das custas processuais e honorários advocatícios.\n> \n> b)  Caso Vossa Excelência não entenda pelo provimento monocrático, requer seja o presente recurso levado à apreciação da Turma, a fim de que seja dado provimento ao presente Recurso Especial.\n> \n> **VI - ENCERRAMENTO**\n> \n> Termos em que,\n> \n> Pede Deferimento.\n> \n> Brasília/DF, 18 de maio de 2025.\n> \n> [Nome do Advogado]\n> \n> [Número da OAB]\n"
          },
          "metadata": {}
        },
        {
          "output_type": "stream",
          "name": "stdout",
          "text": [
            "--------------------------------------------------------------\n",
            "🔎 Agente Criador: Revisando a peça para 'juro excessivos'...\n",
            "✨ Agente Criador: Peça revisada e finalizada!\n",
            "\n",
            "--- 📝 Resultado do Agente 4 (Criador) ---\n",
            "\n"
          ]
        },
        {
          "output_type": "display_data",
          "data": {
            "text/plain": [
              "<IPython.core.display.Markdown object>"
            ],
            "text/markdown": "> ## EXCELENTÍSSIMO SENHOR MINISTRO PRESIDENTE DO SUPERIOR TRIBUNAL DE JUSTIÇA\n> \n> **RECORRENTE:** [Nome Completo do Recorrente], [Nacionalidade], [Estado Civil], [Profissão], inscrito(a) no CPF sob o nº [Número do CPF], portador(a) da Carteira de Identidade nº [Número da Identidade], residente e domiciliado(a) em [Endereço Completo], por seu(sua) advogado(a) que esta subscreve, (procuração anexa – Doc. 01), com escritório profissional em [Endereço do Escritório], onde recebe intimações, vem, respeitosamente, perante Vossa Excelência, com fundamento no artigo 105, inciso III, alíneas \"a\" e \"c\", da Constituição Federal, interpor o presente\n> \n> **RECURSO ESPECIAL**\n> \n> em face do r. acórdão proferido pelo Egrégio Tribunal de Justiça do Estado de [Sigla do Estado] (TJ[Sigla do Estado]), nos autos do processo nº [Número do Processo], pelos motivos de fato e de direito a seguir expostos:\n> \n> **I - DA ADMISSIBILIDADE**\n> \n> O presente Recurso Especial é tempestivo, interposto dentro do prazo legal de 15 (quinze) dias úteis, conforme art. 1.003, § 5º, do Código de Processo Civil. O preparo recursal foi devidamente recolhido, conforme comprovantes anexos (Doc. 02).\n> \n> **II - INTRODUÇÃO**\n> \n> O presente Recurso Especial busca a reforma do v. acórdão proferido pelo Tribunal de Justiça do Estado de [Sigla do Estado], que manteve a sentença de primeira instância, negando provimento ao pedido do Recorrente de revisão contratual, em virtude da cobrança de juros remuneratórios abusivos em contrato de [Tipo de Contrato].\n> \n> A decisão recorrida violou frontalmente a legislação federal, especialmente os artigos 421 e 422 do Código Civil, o artigo 51, IV do Código de Defesa do Consumidor e a Lei da Usura (Decreto nº 22.626/33), bem como divergiu da jurisprudência dominante deste Superior Tribunal de Justiça, justificando, assim, a admissibilidade do presente recurso, tanto pela alínea \"a\" (violação à lei federal) quanto pela alínea \"c\" (divergência jurisprudencial) do inciso III do art. 105 da Constituição Federal.\n> \n> **III - DAS QUESTÕES DE DIREITO A SEREM DEBATIDAS**\n> \n> O presente Recurso Especial se fundamenta nas seguintes questões de direito, amparadas na legislação e na jurisprudência consolidada do STJ:\n> \n> 1.  **Da Limitação dos Juros Remuneratórios:** A taxa de juros remuneratórios, ainda que pactuada, deve observar a taxa média de mercado divulgada pelo Banco Central do Brasil, sob pena de onerosidade excessiva e desequilíbrio contratual, em ofensa ao princípio da boa-fé objetiva.\n> \n> 2.  **Da Nulidade de Cláusulas Abusivas:** Cláusulas contratuais que prevejam juros excessivos, encargos ilegais ou outras vantagens exageradas para a instituição financeira são nulas de pleno direito, por violarem o artigo 51, IV do Código de Defesa do Consumidor e o princípio da função social do contrato.\n> \n> 3.  **Da Repetição do Indébito:** Constatada a cobrança indevida de juros abusivos, é devida a repetição do indébito, em dobro, nos termos do artigo 42 do Código de Defesa do Consumidor, ou, subsidiariamente, de forma simples, com correção monetária e juros de mora.\n> \n> **IV - DOS FATOS**\n> \n> O Recorrente firmou contrato de [Tipo de Contrato] (cópia anexa – Doc. 03) com a instituição financeira [Nome da Instituição Financeira], no valor de R$ [Valor do Contrato], a ser pago em [Número de Parcelas] parcelas mensais, com juros remuneratórios de [Percentual de Juros] ao mês (conforme Cláusula [Número da Cláusula] do contrato).\n> \n> Ocorre que, ao longo da execução contratual, o Recorrente percebeu que os juros cobrados eram manifestamente excessivos, muito superiores à taxa média de mercado praticada para operações semelhantes, conforme demonstrativo comparativo em anexo (Doc. 04). A situação tornou-se insustentável, inviabilizando o cumprimento do contrato e colocando em risco a estabilidade financeira do Recorrente, que [Descreva as consequências da onerosidade excessiva para o Recorrente, por exemplo: \"teve seu nome negativado\", \"enfrenta dificuldades para honrar outros compromissos\"].\n> \n> Diante dessa situação, o Recorrente buscou a via judicial para a revisão do contrato, pleiteando a limitação dos juros remuneratórios à taxa média de mercado, a repetição do indébito dos valores pagos em excesso, e a declaração de nulidade das cláusulas abusivas.\n> \n> O Tribunal de Justiça do Estado de [Sigla do Estado], contudo, manteve a sentença de primeira instância, entendendo pela legalidade dos juros pactuados, sem considerar o evidente abuso e a onerosidade excessiva para o consumidor, conforme se depreende do acórdão recorrido (Doc. 05).\n> \n> **V - DO DIREITO**\n> \n> A decisão recorrida merece ser reformada, eis que violou o disposto nos artigos 421 e 422 do Código Civil, que estabelecem que a liberdade contratual deve ser exercida nos limites da função social do contrato e da boa-fé objetiva, bem como o artigo 51, inciso IV, do Código de Defesa do Consumidor, que considera nulas de pleno direito as cláusulas que estabeleçam obrigações consideradas iníquas, abusivas, que coloquem o consumidor em desvantagem exagerada, ou sejam incompatíveis com a boa-fé ou a equidade.\n> \n> Ademais, a cobrança de juros excessivos configura prática abusiva, vedada pela legislação consumerista e pela jurisprudência pacífica deste Superior Tribunal de Justiça.\n> \n> Nesse sentido, colaciona-se os seguintes julgados deste Egrégio Tribunal, que corroboram o direito do Recorrente:\n> \n> *   **[Inserir Número do REsp] - [Ministro Relator] - [Data do Julgamento]:** \"É abusiva a taxa de juros remuneratórios superior a uma vez e meia (1,5) ou ao dobro (2) da taxa média de mercado.\"\n> *   **[Inserir Número do REsp] - [Ministro Relator] - [Data do Julgamento]:** \"A revisão judicial de contratos bancários, em razão da onerosidade excessiva, não ofende o princípio do pacta sunt servanda, desde que comprovada a abusividade dos encargos.\"\n> *   **[Inserir Número do AgInt no AREsp] - [Ministro Relator] - [Data do Julgamento]:** \"A repetição do indébito é cabível quando demonstrada a cobrança indevida de valores.\"\n> \n> A aplicação dos precedentes jurisprudenciais ao presente caso é flagrante, uma vez que a situação fática descrita demonstra a ocorrência de juros manifestamente excessivos, em descompasso com a realidade do mercado e em flagrante prejuízo ao Recorrente. A manutenção do acórdão recorrido implicaria a consagração de uma prática abusiva e a violação dos direitos do consumidor.\n> \n> **VI - DO PEDIDO**\n> \n> Diante do exposto, requer o Recorrente:\n> \n> a)  O conhecimento e provimento do presente Recurso Especial, para reformar o v. acórdão recorrido e julgar procedente o pedido formulado na ação de revisão contratual, determinando:\n> \n>     i.  A limitação dos juros remuneratórios à taxa média de mercado divulgada pelo Banco Central do Brasil para operações similares na época da contratação;\n>     ii. A declaração de nulidade das cláusulas contratuais que preveem encargos abusivos e ilegais;\n>     iii. A condenação da Recorrida à repetição do indébito dos valores pagos em excesso, em dobro, nos termos do artigo 42 do Código de Defesa do Consumidor, ou, subsidiariamente, de forma simples, com correção monetária desde cada pagamento indevido e juros de mora a partir da citação;\n>     iv. A condenação da Recorrida ao pagamento das custas processuais e honorários advocatícios sucumbenciais, a serem fixados em percentual não inferior a 20% (vinte por cento) sobre o valor da condenação, nos termos do artigo 85, §2º, do Código de Processo Civil.\n> \n> b)  Caso Vossa Excelência não entenda pelo provimento monocrático, requer seja o presente recurso levado à apreciação da Turma, a fim de que seja dado provimento ao presente Recurso Especial.\n> \n> **VII - ENCERRAMENTO**\n> \n> Termos em que,\n> \n> Pede Deferimento.\n> \n> [Local], [Data].\n> \n> [Nome do Advogado]\n> \n> [Número da OAB]/[Sigla do Estado]\n"
          },
          "metadata": {}
        },
        {
          "output_type": "stream",
          "name": "stdout",
          "text": [
            "--------------------------------------------------------------\n",
            "\n",
            "🎉 Sistema finalizado! Sua peça sobre 'juro excessivos' está pronta para o STJ! ⚖️\n"
          ]
        }
      ]
    }
  ]
}